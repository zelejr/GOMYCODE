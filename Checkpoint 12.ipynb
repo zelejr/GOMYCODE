{
 "cells": [
  {
   "cell_type": "code",
   "execution_count": null,
   "id": "d200b0b2",
   "metadata": {},
   "outputs": [],
   "source": [
    "import tkinter as tk\n",
    "\n",
    "def convert_temperature():\n",
    "    try:\n",
    "        # Get the temperature in Fahrenheit from the entry widget\n",
    "        fahrenheit = float(entry_fahrenheit.get())\n",
    "\n",
    "        # Convert Fahrenheit to Celsius using the formula (F - 32) * 5/9\n",
    "        celsius = (fahrenheit - 32) * 5/9\n",
    "\n",
    "        # Update the result label with the converted temperature in Celsius\n",
    "        result_label.config(text=f\"{fahrenheit:.2f} Fahrenheit is {celsius:.2f} Celsius\")\n",
    "    except ValueError:\n",
    "        # Handle the case where the user enters a non-numeric value\n",
    "        result_label.config(text=\"Please enter a valid numeric temperature\")\n",
    "\n",
    "# Create the main Tkinter window\n",
    "window = tk.Tk()\n",
    "window.title(\"Temperature Converter\")\n",
    "\n",
    "# Create and place widgets in the window\n",
    "label_fahrenheit = tk.Label(window, text=\"Enter Temperature in Fahrenheit:\")\n",
    "label_fahrenheit.pack(pady=10)\n",
    "\n",
    "entry_fahrenheit = tk.Entry(window)\n",
    "entry_fahrenheit.pack(pady=10)\n",
    "\n",
    "convert_button = tk.Button(window, text=\"Convert\", command=convert_temperature)\n",
    "convert_button.pack(pady=10)\n",
    "\n",
    "result_label = tk.Label(window, text=\"\")\n",
    "result_label.pack(pady=10)\n",
    "\n",
    "# Start the Tkinter event loop\n",
    "window.mainloop()\n"
   ]
  },
  {
   "cell_type": "code",
   "execution_count": null,
   "id": "b76237fd",
   "metadata": {},
   "outputs": [],
   "source": []
  }
 ],
 "metadata": {
  "kernelspec": {
   "display_name": "Python 3 (ipykernel)",
   "language": "python",
   "name": "python3"
  },
  "language_info": {
   "codemirror_mode": {
    "name": "ipython",
    "version": 3
   },
   "file_extension": ".py",
   "mimetype": "text/x-python",
   "name": "python",
   "nbconvert_exporter": "python",
   "pygments_lexer": "ipython3",
   "version": "3.11.5"
  }
 },
 "nbformat": 4,
 "nbformat_minor": 5
}
