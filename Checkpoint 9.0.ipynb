{
 "cells": [
  {
   "cell_type": "code",
   "execution_count": 1,
   "id": "a08a4c4e",
   "metadata": {},
   "outputs": [
    {
     "name": "stdout",
     "output_type": "stream",
     "text": [
      "order,name,age,height,party\n",
      "1,George Washington,57,189,none\n",
      "2,John Adams,61,170,federalist\n",
      "3,Thomas Jefferson,57,189,democratic-republican\n",
      "4,James Madison,57,163,democratic-republican\n",
      "5,James Monroe,58,183,democratic-republican\n",
      "6,John Quincy Adams,57,171,democratic-republican\n",
      "7,Andrew Jackson,61,185,democratic\n",
      "8,Martin Van Buren,54,168,democratic\n",
      "9,William Henry Harrison,68,173,whig\n",
      "10,John Tyler,51,183,whig\n",
      "11,James K. Polk,49,173,democratic\n",
      "12,Zachary Taylor,64,173,whig\n",
      "13,Millard Fillmore,50,175,whig\n",
      "14,Franklin Pierce,48,178,democratic\n",
      "15,James Buchanan,65,183,democratic\n",
      "16,Abraham Lincoln,52,193,republican\n",
      "17,Andrew Johnson,56,178,national union\n",
      "18,Ulysses S. Grant,46,173,republican\n",
      "19,Rutherford B. Hayes,54,174,republican\n",
      "20,James A. Garfield,49,183,republican\n",
      "21,Chester A. Arthur,51,183,republican\n",
      "22,Grover Cleveland,47,180,democratic\n",
      "23,Benjamin Harrison,55,168,republican\n",
      "25,Grover Cleveland,55,180,democratic\n",
      "25,William McKinley,54,170,republican\n",
      "26,Theodore Roosevelt,42,178,republican\n",
      "27,William Howard Taft,51,182,republican\n",
      "28,Woodrow Wilson,56,180,democratic\n",
      "29,Warren G. Harding,55,183,republican\n",
      "30,Calvin Coolidge,51,178,republican\n",
      "31,Herbert Hoover,54,182,republican\n",
      "32,Franklin D. Roosevelt,51,188,democratic\n",
      "33,Harry S. Truman,60,175,democratic\n",
      "34,Dwight D. Eisenhower,62,179,republican\n",
      "35,John F. Kennedy,43,183,democratic\n",
      "36,Lyndon B. Johnson,55,193,democratic\n",
      "37,Richard Nixon,56,182,republican\n",
      "38,Gerald Ford,61,183,republican\n",
      "39,Jimmy Carter,52,177,democratic\n",
      "40,Ronald Reagan,69,185,republican\n",
      "41,George H. W. Bush,64,188,republican\n",
      "42,Bill Clinton,46,188,democratic\n",
      "43,George W. Bush,54,182,republican\n",
      "44,Barack Obama,47,185,democratic\n",
      "45,Donald J. Trump,70,191,republican\n",
      "\n"
     ]
    }
   ],
   "source": [
    "file = open(\"C:/Users/HP/OneDrive/GOMYCODE/president.csv\",'r')\n",
    "print(file.read())"
   ]
  },
  {
   "cell_type": "code",
   "execution_count": 6,
   "id": "ca3a8966",
   "metadata": {},
   "outputs": [
    {
     "ename": "FileNotFoundError",
     "evalue": "[Errno 2] No such file or directory: 'C:/Users/HP/OneDrvie/GOMYCODE/president.csv'",
     "output_type": "error",
     "traceback": [
      "\u001b[1;31m---------------------------------------------------------------------------\u001b[0m",
      "\u001b[1;31mFileNotFoundError\u001b[0m                         Traceback (most recent call last)",
      "Cell \u001b[1;32mIn[6], line 1\u001b[0m\n\u001b[1;32m----> 1\u001b[0m \u001b[38;5;28;01mwith\u001b[39;00m \u001b[38;5;28mopen\u001b[39m(\u001b[38;5;124m\"\u001b[39m\u001b[38;5;124mC:/Users/HP/OneDrvie/GOMYCODE/president.csv\u001b[39m\u001b[38;5;124m\"\u001b[39m,\u001b[38;5;124m'\u001b[39m\u001b[38;5;124mr\u001b[39m\u001b[38;5;124m'\u001b[39m) \u001b[38;5;28;01mas\u001b[39;00m file:\n\u001b[0;32m      2\u001b[0m     \u001b[38;5;28;01mfor\u001b[39;00m line \u001b[38;5;129;01min\u001b[39;00m file\u001b[38;5;241m.\u001b[39mreadlines()[\u001b[38;5;241m-\u001b[39m\u001b[38;5;241m1\u001b[39m:]:\n\u001b[0;32m      3\u001b[0m         \u001b[38;5;28mprint\u001b[39m(line)\n",
      "File \u001b[1;32m~\\anaconda3\\Lib\\site-packages\\IPython\\core\\interactiveshell.py:286\u001b[0m, in \u001b[0;36m_modified_open\u001b[1;34m(file, *args, **kwargs)\u001b[0m\n\u001b[0;32m    279\u001b[0m \u001b[38;5;28;01mif\u001b[39;00m file \u001b[38;5;129;01min\u001b[39;00m {\u001b[38;5;241m0\u001b[39m, \u001b[38;5;241m1\u001b[39m, \u001b[38;5;241m2\u001b[39m}:\n\u001b[0;32m    280\u001b[0m     \u001b[38;5;28;01mraise\u001b[39;00m \u001b[38;5;167;01mValueError\u001b[39;00m(\n\u001b[0;32m    281\u001b[0m         \u001b[38;5;124mf\u001b[39m\u001b[38;5;124m\"\u001b[39m\u001b[38;5;124mIPython won\u001b[39m\u001b[38;5;124m'\u001b[39m\u001b[38;5;124mt let you open fd=\u001b[39m\u001b[38;5;132;01m{\u001b[39;00mfile\u001b[38;5;132;01m}\u001b[39;00m\u001b[38;5;124m by default \u001b[39m\u001b[38;5;124m\"\u001b[39m\n\u001b[0;32m    282\u001b[0m         \u001b[38;5;124m\"\u001b[39m\u001b[38;5;124mas it is likely to crash IPython. If you know what you are doing, \u001b[39m\u001b[38;5;124m\"\u001b[39m\n\u001b[0;32m    283\u001b[0m         \u001b[38;5;124m\"\u001b[39m\u001b[38;5;124myou can use builtins\u001b[39m\u001b[38;5;124m'\u001b[39m\u001b[38;5;124m open.\u001b[39m\u001b[38;5;124m\"\u001b[39m\n\u001b[0;32m    284\u001b[0m     )\n\u001b[1;32m--> 286\u001b[0m \u001b[38;5;28;01mreturn\u001b[39;00m io_open(file, \u001b[38;5;241m*\u001b[39margs, \u001b[38;5;241m*\u001b[39m\u001b[38;5;241m*\u001b[39mkwargs)\n",
      "\u001b[1;31mFileNotFoundError\u001b[0m: [Errno 2] No such file or directory: 'C:/Users/HP/OneDrvie/GOMYCODE/president.csv'"
     ]
    }
   ],
   "source": [
    "with open(\"C:/Users/HP/OneDrve/GOMYCODE/president.csv\",'r') as file:\n",
    "    for line in file.readlines()[-1:]:\n",
    "        print(line)"
   ]
  },
  {
   "cell_type": "code",
   "execution_count": 4,
   "id": "c00c08aa",
   "metadata": {},
   "outputs": [
    {
     "name": "stdout",
     "output_type": "stream",
     "text": [
      "order,name,age,height,party\n",
      "\n"
     ]
    }
   ],
   "source": [
    "with open(\"C:/Users/HP/OneDrive/GOMYCODE/president.csv\", 'r') as file:\n",
    "    for line in file.readlines()[0:1]:\n",
    "        print(line)"
   ]
  },
  {
   "cell_type": "code",
   "execution_count": null,
   "id": "bd3468ef",
   "metadata": {},
   "outputs": [],
   "source": []
  }
 ],
 "metadata": {
  "kernelspec": {
   "display_name": "Python 3 (ipykernel)",
   "language": "python",
   "name": "python3"
  },
  "language_info": {
   "codemirror_mode": {
    "name": "ipython",
    "version": 3
   },
   "file_extension": ".py",
   "mimetype": "text/x-python",
   "name": "python",
   "nbconvert_exporter": "python",
   "pygments_lexer": "ipython3",
   "version": "3.11.5"
  }
 },
 "nbformat": 4,
 "nbformat_minor": 5
}
