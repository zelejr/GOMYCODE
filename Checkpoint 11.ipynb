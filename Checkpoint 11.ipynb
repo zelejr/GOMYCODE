{
 "cells": [
  {
   "cell_type": "markdown",
   "id": "f72e82b7",
   "metadata": {},
   "source": [
    "### Index Error"
   ]
  },
  {
   "cell_type": "code",
   "execution_count": 2,
   "id": "9baca8b3",
   "metadata": {},
   "outputs": [
    {
     "name": "stdout",
     "output_type": "stream",
     "text": [
      "List index out of range\n"
     ]
    }
   ],
   "source": [
    "try:\n",
    "    mylist=[14, \"hello\", 967]\n",
    "    mylist[6]\n",
    "except:\n",
    "    print('List index out of range')\n",
    "#It has an invalid index"
   ]
  },
  {
   "cell_type": "markdown",
   "id": "58f69dd9",
   "metadata": {},
   "source": [
    "### Module Error"
   ]
  },
  {
   "cell_type": "code",
   "execution_count": 3,
   "id": "0257639d",
   "metadata": {},
   "outputs": [
    {
     "name": "stdout",
     "output_type": "stream",
     "text": [
      "No Module named Pandas\n"
     ]
    }
   ],
   "source": [
    "try:\n",
    "    import Pandas\n",
    "    import NumPy\n",
    "except:\n",
    "    print('No Module named Pandas')\n",
    "#Module is not found"
   ]
  },
  {
   "cell_type": "markdown",
   "id": "a1869688",
   "metadata": {},
   "source": [
    "### Syntax Error"
   ]
  },
  {
   "cell_type": "code",
   "execution_count": 4,
   "id": "f4e17c64",
   "metadata": {},
   "outputs": [
    {
     "name": "stdout",
     "output_type": "stream",
     "text": [
      "python errors\n"
     ]
    }
   ],
   "source": [
    "print(\"python errors\")\n",
    "#Syntax error is found cause there's no parentheses"
   ]
  },
  {
   "cell_type": "markdown",
   "id": "6cbf8839",
   "metadata": {},
   "source": [
    "### Key Error"
   ]
  },
  {
   "cell_type": "code",
   "execution_count": 5,
   "id": "28c853ee",
   "metadata": {},
   "outputs": [
    {
     "name": "stdout",
     "output_type": "stream",
     "text": [
      "Key is not found\n"
     ]
    }
   ],
   "source": [
    "try:\n",
    "    mydictionnary={True:\"hello\",False:\"bye\", '3':\"python\"}\n",
    "    mydictionnary['True']\n",
    "except:\n",
    "    print('Key is not found')\n",
    "#The key is not found in the code"
   ]
  },
  {
   "cell_type": "markdown",
   "id": "4861d3b0",
   "metadata": {},
   "source": [
    "### Indentation Error"
   ]
  },
  {
   "cell_type": "code",
   "execution_count": null,
   "id": "7e7c57ea",
   "metadata": {},
   "outputs": [],
   "source": [
    "i=14\n",
    "while i<78:\n",
    "    print(i)\n",
    "i+=1\n",
    "#the third line \"print\" did not have a right indentation"
   ]
  },
  {
   "cell_type": "markdown",
   "id": "e73f0804",
   "metadata": {},
   "source": [
    "### Stoplteration"
   ]
  },
  {
   "cell_type": "code",
   "execution_count": 9,
   "id": "629258d1",
   "metadata": {},
   "outputs": [
    {
     "name": "stdout",
     "output_type": "stream",
     "text": [
      "Stop\n"
     ]
    }
   ],
   "source": [
    "try:  \n",
    "    it=iter([1,2,3])\n",
    "    next(it)\n",
    "    next(it)\n",
    "    next(it)\n",
    "    next(it)\n",
    "except:\n",
    "      print('Stop')\n",
    "#It contains many number of values"
   ]
  },
  {
   "cell_type": "markdown",
   "id": "4036109e",
   "metadata": {},
   "source": [
    "### Type Error"
   ]
  },
  {
   "cell_type": "code",
   "execution_count": 10,
   "id": "4807a829",
   "metadata": {},
   "outputs": [
    {
     "data": {
      "text/plain": [
       "30"
      ]
     },
     "execution_count": 10,
     "metadata": {},
     "output_type": "execute_result"
    }
   ],
   "source": [
    "15+15\n",
    "#There isn't meant to be quotes around 15"
   ]
  },
  {
   "cell_type": "markdown",
   "id": "607edcb9",
   "metadata": {},
   "source": [
    "### Value Error"
   ]
  },
  {
   "cell_type": "code",
   "execution_count": 11,
   "id": "945cc2ed",
   "metadata": {},
   "outputs": [
    {
     "name": "stdout",
     "output_type": "stream",
     "text": [
      "python\n"
     ]
    }
   ],
   "source": [
    "print('python')\n",
    "#invalid value for python"
   ]
  },
  {
   "cell_type": "markdown",
   "id": "225691fe",
   "metadata": {},
   "source": [
    "### Name Error"
   ]
  },
  {
   "cell_type": "code",
   "execution_count": 12,
   "id": "fe9eaa1c",
   "metadata": {},
   "outputs": [
    {
     "name": "stdout",
     "output_type": "stream",
     "text": [
      "17\n"
     ]
    }
   ],
   "source": [
    "python = 17\n",
    "print(python)\n",
    "#The value python was not defined"
   ]
  },
  {
   "cell_type": "markdown",
   "id": "726ef875",
   "metadata": {},
   "source": [
    "### ZeroDivision Error"
   ]
  },
  {
   "cell_type": "code",
   "execution_count": 16,
   "id": "0b57ebee",
   "metadata": {},
   "outputs": [
    {
     "name": "stdout",
     "output_type": "stream",
     "text": [
      "Module cannot be divided by zero\n"
     ]
    }
   ],
   "source": [
    "try:\n",
    "    x=19/0\n",
    "except:\n",
    "       print('Module cannot be divided by zero')\n",
    "#The figure cannot be divided by zero"
   ]
  },
  {
   "cell_type": "code",
   "execution_count": null,
   "id": "3f448287",
   "metadata": {},
   "outputs": [],
   "source": []
  }
 ],
 "metadata": {
  "kernelspec": {
   "display_name": "Python 3 (ipykernel)",
   "language": "python",
   "name": "python3"
  },
  "language_info": {
   "codemirror_mode": {
    "name": "ipython",
    "version": 3
   },
   "file_extension": ".py",
   "mimetype": "text/x-python",
   "name": "python",
   "nbconvert_exporter": "python",
   "pygments_lexer": "ipython3",
   "version": "3.11.5"
  }
 },
 "nbformat": 4,
 "nbformat_minor": 5
}
