{
 "cells": [
  {
   "cell_type": "code",
   "execution_count": 1,
   "id": "e18f267c",
   "metadata": {},
   "outputs": [
    {
     "name": "stdout",
     "output_type": "stream",
     "text": [
      "Student 1: Score = 85, Grade = A\n",
      "Student 2: Score = 92, Grade = F\n",
      "Student 3: Score = 78, Grade = B\n",
      "Student 4: Score = 60, Grade = D\n",
      "Student 5: Score = 45, Grade = D\n",
      "Student 6: Score = 70, Grade = C\n",
      "Student 7: Score = 88, Grade = A\n"
     ]
    }
   ],
   "source": [
    "import numpy as np\n",
    "\n",
    "def calculate_grades(scores):\n",
    "    # Define the grade boundaries and corresponding grades\n",
    "    grade_boundaries = [90, 80, 70, 60, 0]\n",
    "    grades = ['A', 'B', 'C', 'D', 'F']\n",
    "\n",
    "    # Use numpy's digitize function to find the appropriate grade for each score\n",
    "    grade_indices = np.digitize(scores, bins=grade_boundaries, right=True)\n",
    "\n",
    "    # Map the grade indices to actual grades\n",
    "    final_grades = [grades[i-1] for i in grade_indices]\n",
    "\n",
    "    return final_grades\n",
    "\n",
    "def main():\n",
    "    # Example scores as a NumPy array\n",
    "    student_scores = np.array([85, 92, 78, 60, 45, 70, 88])\n",
    "\n",
    "    # Calculate grades using the defined function\n",
    "    grades = calculate_grades(student_scores)\n",
    "\n",
    "    # Print the results\n",
    "    for i in range(len(student_scores)):\n",
    "        print(f\"Student {i+1}: Score = {student_scores[i]}, Grade = {grades[i]}\")\n",
    "\n",
    "if __name__ == \"__main__\":\n",
    "    main()\n"
   ]
  },
  {
   "cell_type": "code",
   "execution_count": null,
   "id": "41dfac73",
   "metadata": {},
   "outputs": [],
   "source": []
  }
 ],
 "metadata": {
  "kernelspec": {
   "display_name": "Python 3 (ipykernel)",
   "language": "python",
   "name": "python3"
  },
  "language_info": {
   "codemirror_mode": {
    "name": "ipython",
    "version": 3
   },
   "file_extension": ".py",
   "mimetype": "text/x-python",
   "name": "python",
   "nbconvert_exporter": "python",
   "pygments_lexer": "ipython3",
   "version": "3.11.5"
  }
 },
 "nbformat": 4,
 "nbformat_minor": 5
}
