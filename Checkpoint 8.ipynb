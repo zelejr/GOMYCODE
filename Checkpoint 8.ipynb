{
 "cells": [
  {
   "cell_type": "code",
   "execution_count": 3,
   "id": "40280437",
   "metadata": {},
   "outputs": [
    {
     "name": "stdout",
     "output_type": "stream",
     "text": [
      "Search: covid 19\n",
      "Other names  ::  COVID, (the) coronavirus\n",
      "------------------\n",
      "Pronunciation  ::  /kəˈroʊnəvaɪrəs//ˌkoʊvɪdnaɪnˈtiːn, ˌkɒvɪd-/[1] \n",
      "------------------\n",
      "Specialty  ::  Infectious disease\n",
      "------------------\n",
      "Symptoms  ::  Fever, cough, fatigue, shortness of breath, vomiting, loss of taste or smell; some cases asymptomatic[2][3]\n",
      "------------------\n",
      "Complications  ::  Pneumonia, sepsis, ARDS, kidney failure, respiratory failure, pulmonary fibrosis, CKS, MIS-C, long COVID\n",
      "------------------\n",
      "Usual onset  ::  2–14 days (typically 5)  after infection\n",
      "------------------\n",
      "Duration  ::  5 days to chronic\n",
      "------------------\n",
      "Causes  ::  SARS-CoV-2\n",
      "------------------\n",
      "Diagnostic method  ::  RT‑PCR testing, CT scan, rapid antigen test\n",
      "------------------\n",
      "Prevention  ::  Vaccination, face coverings, quarantine, social distancing, ventilation, hand washing\n",
      "------------------\n",
      "Treatment  ::  Symptomatic and supportive\n",
      "------------------\n",
      "Frequency  ::  772,165,753[4] confirmed cases\n",
      "------------------\n",
      "Deaths  ::  6,981,250[4] (reported)17.6–31.4 million[5] (estimated)\n",
      "------------------\n",
      "Coronavirus disease 2019 (COVID-19) is a contagious disease caused by the virus SARS-CoV-2. The first known case was identified in Wuhan, China, in December 2019.[6] The disease quickly spread worldwide, resulting in the COVID-19 pandemic.\n",
      "\n",
      "The symptoms of COVID‑19 are variable but often include fever,[7] cough, headache,[8] fatigue, breathing difficulties, loss of smell, and loss of taste.[9][10][11] Symptoms may begin one to fourteen days after exposure to the virus. At least a third of people who are infected do not develop noticeable symptoms.[12][13] Of those who develop symptoms noticeable enough to be classified as patients, most (81%) develop mild to moderate symptoms (up to mild pneumonia), while 14% develop severe symptoms (dyspnea, hypoxia, or more than 50% lung involvement on imaging), and 5% develop critical symptoms (respiratory failure, shock, or multiorgan dysfunction).[14] Older people are at a higher risk of developing severe symptoms. Some people continue to experience a range of effects (long COVID) for months or years after infection, and damage to organs has been observed.[15] Multi-year studies are underway to further investigate the long-term effects of the disease.[16]\n",
      "\n"
     ]
    }
   ],
   "source": [
    "import requests\n",
    "import string\n",
    "from bs4 import BeautifulSoup\n",
    "\n",
    "Enter_input = input(\"Search: \")\n",
    "u_i = string.capwords(Enter_input)\n",
    "lists = u_i.split()\n",
    "word = \"_\".join(lists)\n",
    "\n",
    "url = \"https://en.wikipedia.org/wiki/\"+word\n",
    "\n",
    "def wikibot(url):\n",
    "    url_open =requests.get(url)\n",
    "    soup = BeautifulSoup( url_open.content,'html.parser')\n",
    "    details =soup('table',{'class':'infobox'})\n",
    "    for i in details:\n",
    "        h =i.find_all('tr')\n",
    "        for j in h:\n",
    "            heading = j.find_all('th')\n",
    "            detail = j.find_all('td')\n",
    "            if heading is not None and detail is not None:\n",
    "                for x,y in zip(heading,detail):\n",
    "                    print(\"{}  ::  {}\".format(x.text,y.text))\n",
    "                    print(\"------------------\")\n",
    "    for i in range(1,3):\n",
    "        print(soup('p')[i].text)\n",
    "wikibot(url)        "
   ]
  },
  {
   "cell_type": "code",
   "execution_count": null,
   "id": "fe4804f9",
   "metadata": {},
   "outputs": [],
   "source": []
  }
 ],
 "metadata": {
  "kernelspec": {
   "display_name": "Python 3 (ipykernel)",
   "language": "python",
   "name": "python3"
  },
  "language_info": {
   "codemirror_mode": {
    "name": "ipython",
    "version": 3
   },
   "file_extension": ".py",
   "mimetype": "text/x-python",
   "name": "python",
   "nbconvert_exporter": "python",
   "pygments_lexer": "ipython3",
   "version": "3.11.5"
  }
 },
 "nbformat": 4,
 "nbformat_minor": 5
}
