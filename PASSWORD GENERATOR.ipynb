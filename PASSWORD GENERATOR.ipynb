{
 "cells": [
  {
   "cell_type": "code",
   "execution_count": null,
   "id": "e27595f1",
   "metadata": {},
   "outputs": [],
   "source": [
    "import tkinter as tk\n",
    "from tkinter import ttk\n",
    "from tkinter import messagebox\n",
    "import random\n",
    "import string\n",
    "\n",
    "class PasswordGeneratorApp:\n",
    "    def __init__(self, master):\n",
    "        self.master = master\n",
    "        self.master.title(\"Password Generator\")\n",
    "\n",
    "        # Variables\n",
    "        self.password_var = tk.StringVar()\n",
    "        self.length_var = tk.IntVar(value=12)\n",
    "        self.use_uppercase_var = tk.BooleanVar(value=True)\n",
    "        self.use_digits_var = tk.BooleanVar(value=True)\n",
    "        self.use_special_chars_var = tk.BooleanVar(value=True)\n",
    "\n",
    "        # Widgets\n",
    "        tk.Label(master, text=\"Password Length:\").grid(row=0, column=0, padx=10, pady=5, sticky=\"e\")\n",
    "        tk.Entry(master, textvariable=self.length_var, width=5).grid(row=0, column=1, pady=5, sticky=\"w\")\n",
    "\n",
    "        tk.Checkbutton(master, text=\"Include Uppercase\", variable=self.use_uppercase_var).grid(row=1, column=0, columnspan=2, pady=5, sticky=\"w\")\n",
    "        tk.Checkbutton(master, text=\"Include Digits\", variable=self.use_digits_var).grid(row=2, column=0, columnspan=2, pady=5, sticky=\"w\")\n",
    "        tk.Checkbutton(master, text=\"Include Special Characters\", variable=self.use_special_chars_var).grid(row=3, column=0, columnspan=2, pady=5, sticky=\"w\")\n",
    "\n",
    "        ttk.Button(master, text=\"Generate Password\", command=self.generate_password).grid(row=4, column=0, columnspan=2, pady=10)\n",
    "\n",
    "        tk.Entry(master, textvariable=self.password_var, state=\"readonly\", width=30).grid(row=5, column=0, columnspan=2, pady=5)\n",
    "\n",
    "    def generate_password(self):\n",
    "        length = self.length_var.get()\n",
    "        use_uppercase = self.use_uppercase_var.get()\n",
    "        use_digits = self.use_digits_var.get()\n",
    "        use_special_chars = self.use_special_chars_var.get()\n",
    "\n",
    "        characters = string.ascii_lowercase\n",
    "        if use_uppercase:\n",
    "            characters += string.ascii_uppercase\n",
    "        if use_digits:\n",
    "            characters += string.digits\n",
    "        if use_special_chars:\n",
    "            characters += string.punctuation\n",
    "\n",
    "        if length < 1:\n",
    "            messagebox.showerror(\"Error\", \"Password length must be at least 1\")\n",
    "            return\n",
    "\n",
    "        password = ''.join(random.choice(characters) for _ in range(length))\n",
    "        self.password_var.set(password)\n",
    "        messagebox.showinfo(\"Password Generated\", \"Password has been generated and displayed above.\")\n",
    "\n",
    "if __name__ == \"__main__\":\n",
    "    root = tk.Tk()\n",
    "    app = PasswordGeneratorApp(root)\n",
    "    root.mainloop()"
   ]
  },
  {
   "cell_type": "code",
   "execution_count": null,
   "id": "d80d5ee6",
   "metadata": {},
   "outputs": [],
   "source": []
  }
 ],
 "metadata": {
  "kernelspec": {
   "display_name": "Python 3 (ipykernel)",
   "language": "python",
   "name": "python3"
  },
  "language_info": {
   "codemirror_mode": {
    "name": "ipython",
    "version": 3
   },
   "file_extension": ".py",
   "mimetype": "text/x-python",
   "name": "python",
   "nbconvert_exporter": "python",
   "pygments_lexer": "ipython3",
   "version": "3.11.5"
  }
 },
 "nbformat": 4,
 "nbformat_minor": 5
}
